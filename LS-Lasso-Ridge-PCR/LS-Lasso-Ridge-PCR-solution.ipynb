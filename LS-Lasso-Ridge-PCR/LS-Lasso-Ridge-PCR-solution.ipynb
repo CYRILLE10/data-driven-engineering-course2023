{
 "cells": [
  {
   "cell_type": "markdown",
   "id": "42834217",
   "metadata": {},
   "source": [
    "# Exercise on the use of LS, Lasso, Ridge and PCR regression\n",
    "\n",
    "In this exercise we'll check the difference in the application of different regression algorithms.\n",
    "\n",
    "The goal is to predict the association between prostate specific antigen (PSA) and several clinical measures that are potentially associated with PSA in men who were about to receive a radical prostatectomy."
   ]
  },
  {
   "cell_type": "code",
   "execution_count": 3,
   "id": "9b988fea",
   "metadata": {
    "scrolled": true
   },
   "outputs": [],
   "source": [
    "import pandas as pd\n",
    "import numpy as np\n",
    "import matplotlib.pyplot as plt\n",
    "\n",
    "from google.colab import files\n",
    "files.upload()"
   ]
  },
  {
   "cell_type": "code",
   "execution_count": 2,
   "id": "9aa3b605",
   "metadata": {},
   "outputs": [
    {
     "name": "stdout",
     "output_type": "stream",
     "text": [
      "      lcavol   lweight  age      lbph  svi       lcp  gleason  pgg45  \\\n",
      "1  -0.579818  2.769459   50 -1.386294    0 -1.386294        6      0   \n",
      "2  -0.994252  3.319626   58 -1.386294    0 -1.386294        6      0   \n",
      "3  -0.510826  2.691243   74 -1.386294    0 -1.386294        7     20   \n",
      "4  -1.203973  3.282789   58 -1.386294    0 -1.386294        6      0   \n",
      "5   0.751416  3.432373   62 -1.386294    0 -1.386294        6      0   \n",
      "..       ...       ...  ...       ...  ...       ...      ...    ...   \n",
      "93  2.830268  3.876396   68 -1.386294    1  1.321756        7     60   \n",
      "94  3.821004  3.896909   44 -1.386294    1  2.169054        7     40   \n",
      "95  2.907447  3.396185   52 -1.386294    1  2.463853        7     10   \n",
      "96  2.882564  3.773910   68  1.558145    1  1.558145        7     80   \n",
      "97  3.471966  3.974998   68  0.438255    1  2.904165        7     20   \n",
      "\n",
      "        lpsa train  \n",
      "1  -0.430783     T  \n",
      "2  -0.162519     T  \n",
      "3  -0.162519     T  \n",
      "4  -0.162519     T  \n",
      "5   0.371564     T  \n",
      "..       ...   ...  \n",
      "93  4.385147     T  \n",
      "94  4.684443     T  \n",
      "95  5.143124     F  \n",
      "96  5.477509     T  \n",
      "97  5.582932     F  \n",
      "\n",
      "[97 rows x 10 columns]\n"
     ]
    }
   ],
   "source": [
    "data = pd.read_csv('cancer_data.txt', sep='\\t', index_col=0) # The entire dataset\n",
    "X = np.array(data.iloc[:,:-2]) # Matrix of the features\n",
    "y = np.array(data.iloc[:,-2]) # Matrix of the target\n",
    "\n",
    "print(data)"
   ]
  },
  {
   "cell_type": "code",
   "execution_count": 16,
   "id": "193a968e",
   "metadata": {},
   "outputs": [],
   "source": [
    "from sklearn.model_selection import train_test_split\n",
    "from sklearn.preprocessing import StandardScaler\n",
    "\n",
    "# create the test and train datasets\n",
    "X_train, X_test, y_train, y_test = train_test_split(X, y, test_size=0.2, random_state=1)\n",
    "\n",
    "# scale and center the data\n",
    "scalerX = StandardScaler()\n",
    "\n",
    "X0_train = scalerX.fit_transform(X_train)"
   ]
  },
  {
   "cell_type": "markdown",
   "id": "17254607",
   "metadata": {},
   "source": [
    "## Least-Squares regression\n",
    "\n",
    "The objective function of a least-squares problem $ Ax = b$ is:\n",
    "\n",
    "$x = \\underset{x}{\\mathrm{min}} ||Ax - b||^2_2$"
   ]
  },
  {
   "cell_type": "code",
   "execution_count": 17,
   "id": "eab8938a",
   "metadata": {},
   "outputs": [
    {
     "data": {
      "image/png": "[encoded data removed]",
      "text/plain": [
       "<Figure size 432x288 with 1 Axes>"
      ]
     },
     "metadata": {
      "needs_background": "light"
     },
     "output_type": "display_data"
    },
    {
     "name": "stdout",
     "output_type": "stream",
     "text": [
      "R2 for LS is: 0.57\n"
     ]
    }
   ],
   "source": [
    "from sklearn.linear_model import LinearRegression\n",
    "\n",
    "# Create the linear regression object\n",
    "LS_reg = LinearRegression().fit(X0_train, y_train)\n",
    "\n",
    "# To test the regression, we need to scale and center also the test data\n",
    "X0_test = scalerX.transform(X_test)\n",
    "\n",
    "y_pred_LS = LS_reg.predict(X0_test)\n",
    "\n",
    "plt.scatter(y_test, y_pred_LS)\n",
    "plt.plot(y_test, y_test, c='r', alpha=0.6, ls='--')\n",
    "plt.xlim(y_test.min()-1, y_test.max()+1)\n",
    "plt.ylim(y_test.min()-1, y_test.max()+1)\n",
    "plt.xlabel('Observed log PSA')\n",
    "plt.ylabel('Predicted log PSA')\n",
    "plt.show()\n",
    "\n",
    "r2_ls = LS_reg.score(X0_test, y_test)\n",
    "print(f'R2 for LS is: {r2_ls:.2f}')\n"
   ]
  },
  {
   "cell_type": "markdown",
   "id": "8a31db41",
   "metadata": {},
   "source": [
    "## Lasso regression\n",
    "\n",
    "The objective function of a least-squares problem $ Ax = b$ is:\n",
    "\n",
    "$x = \\underset{x}{\\mathrm{min}} \\frac{1}{2 n_s} ||Ax - b||^2_2 + \\alpha ||x||_1$"
   ]
  },
  {
   "cell_type": "code",
   "execution_count": 18,
   "id": "2cd5a07e",
   "metadata": {
    "scrolled": false
   },
   "outputs": [
    {
     "name": "stdout",
     "output_type": "stream",
     "text": [
      "LS coefficients: \n",
      "[ 0.566  0.248 -0.102  0.138  0.368 -0.081  0.14   0.063]\n",
      "Lasso coefficients: \n",
      "[ 0.503  0.177 -0.     0.034  0.29   0.     0.064  0.022]\n",
      "LS score: 0.57\n",
      "Lasso score: 0.55\n"
     ]
    }
   ],
   "source": [
    "from sklearn.linear_model import Lasso\n",
    "Lasso_reg = Lasso(alpha=.1).fit(X0_train, y_train)\n",
    "\n",
    "print('LS coefficients: ')\n",
    "print(np.round(LS_reg.coef_, 3))\n",
    "\n",
    "print('Lasso coefficients: ')\n",
    "print(np.round(Lasso_reg.coef_, 3))\n",
    "\n",
    "LS_score = LS_reg.score(X0_test, y_test)\n",
    "Lasso_score = Lasso_reg.score(X0_test, y_test)\n",
    "\n",
    "print('LS score: ' + str(np.round(LS_score,2)))\n",
    "print('Lasso score: ' + str(np.round(Lasso_score,2)))"
   ]
  },
  {
   "cell_type": "markdown",
   "id": "369b2a1a",
   "metadata": {},
   "source": [
    "The penalty on the L1 norm is used to promote the sparsity of the regression weights.\n",
    "\n",
    "To infer the correct value of $\\alpha$ to apply we can use the cross-validation."
   ]
  },
  {
   "cell_type": "code",
   "execution_count": 19,
   "id": "b3d3e6a2",
   "metadata": {
    "scrolled": true
   },
   "outputs": [
    {
     "data": {
      "image/png": "[encoded data removed]",
      "text/plain": [
       "<Figure size 432x288 with 1 Axes>"
      ]
     },
     "metadata": {
      "needs_background": "light"
     },
     "output_type": "display_data"
    },
    {
     "name": "stdout",
     "output_type": "stream",
     "text": [
      "LS coefficients: \n",
      "[ 0.566  0.248 -0.102  0.138  0.368 -0.081  0.14   0.063]\n",
      "LassoCV coefficients: \n",
      "[ 0.517  0.206 -0.007  0.085  0.327  0.     0.098  0.029]\n",
      "LassoCV score: 0.53\n",
      "LassoCV alpha: 0.0398\n"
     ]
    }
   ],
   "source": [
    "from sklearn.linear_model import LassoCV\n",
    "\n",
    "LassoCV_reg = LassoCV(cv=5, random_state=42).fit(X0_train, y_train)\n",
    "\n",
    "y_pred_LassoCV = LassoCV_reg.predict(X0_test)\n",
    "\n",
    "plt.scatter(y_test, y_pred_LassoCV)\n",
    "plt.plot(y_test, y_test, c='r', alpha=0.6, ls='--')\n",
    "plt.xlim(y_test.min()-1, y_test.max()+1)\n",
    "plt.ylim(y_test.min()-1, y_test.max()+1)\n",
    "plt.xlabel('Observed log PSA')\n",
    "plt.ylabel('Predicted log PSA')\n",
    "plt.show()\n",
    "\n",
    "print('LS coefficients: ')\n",
    "print(np.round(LS_reg.coef_, 3))\n",
    "\n",
    "print('LassoCV coefficients: ')\n",
    "print(np.round(LassoCV_reg.coef_, 3))\n",
    "\n",
    "LassoCV_score = LassoCV_reg.score(X0_test, y_test)\n",
    "\n",
    "print('LassoCV score: ' + str(np.round(LassoCV_score,2)))\n",
    "print('LassoCV alpha: ' + str(np.round(LassoCV_reg.alpha_,4)))"
   ]
  },
  {
   "cell_type": "markdown",
   "id": "06aaec55",
   "metadata": {},
   "source": [
    "## Ridge regression\n",
    "\n",
    "The objective function of a least-squares problem $ Ax = b$ is:\n",
    "\n",
    "$x = \\underset{x}{\\mathrm{min}} ||Ax - b||^2_2 + \\alpha ||x||^2_2$"
   ]
  },
  {
   "cell_type": "code",
   "execution_count": 20,
   "id": "2ca7fd82",
   "metadata": {},
   "outputs": [
    {
     "data": {
      "image/png": "[encoded data removed]",
      "text/plain": [
       "<Figure size 432x288 with 1 Axes>"
      ]
     },
     "metadata": {
      "needs_background": "light"
     },
     "output_type": "display_data"
    },
    {
     "name": "stdout",
     "output_type": "stream",
     "text": [
      "LS coefficients: \n",
      "[ 0.566  0.248 -0.102  0.138  0.368 -0.081  0.14   0.063]\n",
      "RidgeCV coefficients: \n",
      "[ 0.456  0.227 -0.062  0.113  0.319  0.034  0.122  0.064]\n",
      "RidgeCV score: 0.5\n",
      "RidgeCV alpha: 10.0\n"
     ]
    }
   ],
   "source": [
    "from sklearn.linear_model import RidgeCV\n",
    "\n",
    "RidgeCV_reg = RidgeCV(alphas=(0.1, 0.5, 1, 5, 10, 50), cv=5).fit(X0_train, y_train)\n",
    "\n",
    "y_pred_RidgeCV = RidgeCV_reg.predict(X0_test)\n",
    "\n",
    "plt.scatter(y_test, y_pred_RidgeCV)\n",
    "plt.plot(y_test, y_test, c='r', alpha=0.6, ls='--')\n",
    "plt.xlim(y_test.min()-1, y_test.max()+1)\n",
    "plt.ylim(y_test.min()-1, y_test.max()+1)\n",
    "plt.xlabel('Observed log PSA')\n",
    "plt.ylabel('Predicted log PSA')\n",
    "plt.show()\n",
    "\n",
    "print('LS coefficients: ')\n",
    "print(np.round(LS_reg.coef_, 3))\n",
    "\n",
    "print('RidgeCV coefficients: ')\n",
    "print(np.round(RidgeCV_reg.coef_, 3))\n",
    "\n",
    "RidgeCV_score = RidgeCV_reg.score(X0_test, y_test)\n",
    "\n",
    "print('RidgeCV score: ' + str(np.round(RidgeCV_score,2)))\n",
    "print('RidgeCV alpha: ' + str(np.round(RidgeCV_reg.alpha_,4)))"
   ]
  },
  {
   "cell_type": "markdown",
   "id": "6f638b65",
   "metadata": {},
   "source": [
    "## Principal components regression\n",
    "\n",
    "The principal component regression is the same as the LS regression, with an extra-step: the PCA is applyied to the X matrix, and the linear regression is performed on the new projected data."
   ]
  },
  {
   "cell_type": "code",
   "execution_count": 21,
   "id": "0dcf3065",
   "metadata": {
    "scrolled": true
   },
   "outputs": [
    {
     "name": "stdout",
     "output_type": "stream",
     "text": [
      "[42.95 20.16 11.91  8.08  6.05  5.09  3.02  2.73]\n"
     ]
    },
    {
     "data": {
      "image/png": "[encoded data removed]",
      "text/plain": [
       "<Figure size 432x288 with 1 Axes>"
      ]
     },
     "metadata": {
      "needs_background": "light"
     },
     "output_type": "display_data"
    }
   ],
   "source": [
    "from sklearn.decomposition import PCA\n",
    "\n",
    "pca = PCA().fit(X0_train)\n",
    "\n",
    "print(np.round(pca.explained_variance_ratio_*100, 2))\n",
    "\n",
    "plt.scatter(np.arange(X.shape[1]), pca.explained_variance_ratio_*100)\n",
    "plt.show()"
   ]
  },
  {
   "cell_type": "code",
   "execution_count": 22,
   "id": "ebb5b376",
   "metadata": {
    "scrolled": true
   },
   "outputs": [
    {
     "data": {
      "image/png": "[encoded data removed]",
      "text/plain": [
       "<Figure size 432x288 with 1 Axes>"
      ]
     },
     "metadata": {
      "needs_background": "light"
     },
     "output_type": "display_data"
    },
    {
     "name": "stdout",
     "output_type": "stream",
     "text": [
      "LS coefficients: \n",
      "[ 0.566  0.248 -0.102  0.138  0.368 -0.081  0.14   0.063]\n",
      "PCR coefficients: \n",
      "[ 0.471  0.037 -0.324  0.08   0.011  0.178  0.366 -0.276]\n",
      "LS score: 0.57\n",
      "PCR score: 0.57\n"
     ]
    }
   ],
   "source": [
    "A0_train = pca.components_.T\n",
    "Z0_train = X0_train @ A0_train\n",
    "Z0_test = X0_test @ A0_train\n",
    "\n",
    "# The regressio has to be applied to the PC scores\n",
    "PCR_reg = LinearRegression().fit(Z0_train, y_train)\n",
    "\n",
    "y_pred_PCR = PCR_reg.predict(Z0_test)\n",
    "\n",
    "plt.scatter(y_test, y_pred_PCR)\n",
    "plt.plot(y_test, y_test, c='r', alpha=0.6, ls='--')\n",
    "plt.xlim(y_test.min()-1, y_test.max()+1)\n",
    "plt.ylim(y_test.min()-1, y_test.max()+1)\n",
    "plt.xlabel('Observed log PSA')\n",
    "plt.ylabel('Predicted log PSA')\n",
    "plt.show()\n",
    "\n",
    "print('LS coefficients: ')\n",
    "print(np.round(LS_reg.coef_, 3))\n",
    "\n",
    "print('PCR coefficients: ')\n",
    "print(np.round(PCR_reg.coef_, 3))\n",
    "\n",
    "PCR_score = PCR_reg.score(Z0_test, y_test)\n",
    "\n",
    "print('LS score: ' + str(np.round(LS_score,2)))\n",
    "print('PCR score: ' + str(np.round(PCR_score,2)))"
   ]
  },
  {
   "cell_type": "markdown",
   "id": "c4057ffd",
   "metadata": {},
   "source": [
    "This added step has two benefits:\n",
    "\n",
    "* The features become uncorrelated between them.\n",
    "* The dimensionality of the feature matrix can be reduced."
   ]
  },
  {
   "cell_type": "code",
   "execution_count": 23,
   "id": "cca2e331",
   "metadata": {},
   "outputs": [
    {
     "data": {
      "image/png": "[encoded data removed]",
      "text/plain": [
       "<Figure size 432x288 with 1 Axes>"
      ]
     },
     "metadata": {
      "needs_background": "light"
     },
     "output_type": "display_data"
    },
    {
     "name": "stdout",
     "output_type": "stream",
     "text": [
      "LS score: 0.57\n",
      "PCR score: 0.28\n"
     ]
    }
   ],
   "source": [
    "# We can test the regression with fewer features\n",
    "q = 3\n",
    "Z0_train = X0_train @ A0_train[:,:q]\n",
    "Z0_test = X0_test @ A0_train[:,:q]\n",
    "\n",
    "PCR_reg = LinearRegression().fit(Z0_train, y_train)\n",
    "\n",
    "y_pred_PCR = PCR_reg.predict(Z0_test)\n",
    "\n",
    "plt.scatter(y_test, y_pred_PCR)\n",
    "plt.plot(y_test, y_test, c='r', alpha=0.6, ls='--')\n",
    "plt.xlim(y_test.min()-1, y_test.max()+1)\n",
    "plt.ylim(y_test.min()-1, y_test.max()+1)\n",
    "plt.xlabel('Observed log PSA')\n",
    "plt.ylabel('Predicted log PSA')\n",
    "plt.show()\n",
    "\n",
    "PCR_score = PCR_reg.score(Z0_test, y_test)\n",
    "\n",
    "print('LS score: ' + str(np.round(LS_score,2)))\n",
    "print('PCR score: ' + str(np.round(PCR_score,2)))"
   ]
  }
 ],
 "metadata": {
  "kernelspec": {
   "display_name": "Python 3",
   "language": "python",
   "name": "python3"
  },
  "language_info": {
   "codemirror_mode": {
    "name": "ipython",
    "version": 3
   },
   "file_extension": ".py",
   "mimetype": "text/x-python",
   "name": "python",
   "nbconvert_exporter": "python",
   "pygments_lexer": "ipython3",
   "version": "3.7.9"
  }
 },
 "nbformat": 4,
 "nbformat_minor": 5
}
