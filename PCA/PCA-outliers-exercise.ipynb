{
 "cells": [
  {
   "attachments": {},
   "cell_type": "markdown",
   "id": "9d6faa05",
   "metadata": {},
   "source": [
    "# Exercises on PCA\n",
    "\n",
    "## Exercise 3: Outlier detection\n",
    "\n",
    "The goal of the exercise is to use PCA to detect the outlier on a toy dataset.\n",
    "The toy dataset is a matrix that contains 2 features ($x$ and $y$) and 100 samples. \n",
    "For the first 95 samples, $x$ is in the range $[0, 10]$ and $y = 4x + 2 + \\epsilon$, where $\\epsilon$ is Gaussian noise with $\\mu = 0 $ and $\\sigma = 2.5$. The last 5 points are outliers with $x_{\\mathrm{out}}$ is in the range $[2, 3]$ and $y_{\\mathrm{out}} = 3 x^2 + x + 10 + \\epsilon_{\\mathrm{out}}$, where $\\epsilon_{\\mathrm{out}}$ is Gaussian noise with $\\mu_{\\mathrm{out}} = 0 $ and $\\sigma_{\\mathrm{out}} = 5$"
   ]
  },
  {
   "cell_type": "code",
   "execution_count": 1,
   "id": "1d3a35b9",
   "metadata": {},
   "outputs": [],
   "source": [
    "# First we import the libraries \n",
    "import numpy as np\n",
    "import matplotlib.pyplot as plt\n",
    "import sklearn as sk\n",
    "\n",
    "# To do: \n",
    "# - create 95 correct samples with x in range [0, 10] and y = 4*x + 2 + noise\n",
    "# - create 5 outliers with x_outl in range [2, 3] and y_outl = 3*x_outl**2 + x_outl + 10 + noise_outl\n",
    "\n",
    "\n",
    "# Hint:\n",
    "# - to create a evenly spaced array, you can use the function np.linspace(start, stop, n_points)\n",
    "# - to create the noise array, you can use the function np.random.normal(mu, sigma, size=n_points)\n",
    "\n",
    "# this command is used to set a fixed seed for random sampling, \n",
    "# so that we have the same result when re-running the code.\n",
    "np.random.seed(1) \n",
    "\n",
    "\n",
    "# Uncomment to plot\n",
    "# fig, ax = plt.subplots(figsize=(6,4))\n",
    "# ax.scatter(x, y, c='b', label='correct')\n",
    "# ax.scatter(x_outl, y_outl, c='r', label='outliers')\n",
    "# ax.set_xlabel('x')\n",
    "# ax.set_ylabel('y')\n",
    "# ax.legend()\n",
    "# plt.show()"
   ]
  },
  {
   "attachments": {},
   "cell_type": "markdown",
   "id": "e0104704",
   "metadata": {},
   "source": [
    "Now that we have computed the correct values and the outliers, we have to put them in a single dataset, so that we simulate a dataset that has been corrupted with outliers."
   ]
  },
  {
   "cell_type": "code",
   "execution_count": 2,
   "id": "dca7ea56",
   "metadata": {},
   "outputs": [],
   "source": [
    "# To do:\n",
    "# - Create an empty matrix D of size (n_points + n_outl, 2)\n",
    "# - Put the true values and the outliers in the matrix, using column 0 for x and column 1 for y\n",
    "\n",
    "# Hint:\n",
    "# - You can use the function np.empty((n, 2)) to create an empty matrix\n",
    "# - You can use np.concatenate([a, b]) to concatenate vector a and b\n",
    "\n",
    "# Uncomment to plot\n",
    "# fig, ax = plt.subplots(figsize=(6,4))\n",
    "# ax.scatter(D[:,0], D[:,1], c='b')\n",
    "# ax.set_xlabel('x')\n",
    "# ax.set_ylabel('y')\n",
    "# plt.show()"
   ]
  },
  {
   "attachments": {},
   "cell_type": "markdown",
   "id": "d93b0716",
   "metadata": {},
   "source": [
    "Now we need to perform PCA on the data matrix, and we use the implementation on the scikit-learn library.\n",
    "Before doing PCA, we center and scale the matrix (you can try and see what happens if you don't do it)."
   ]
  },
  {
   "cell_type": "code",
   "execution_count": 3,
   "id": "0cac2ec8",
   "metadata": {},
   "outputs": [],
   "source": [
    "from sklearn.decomposition import PCA\n",
    "\n",
    "# To do:\n",
    "# - Center and scale the matrix D\n",
    "# - Perform PCA\n",
    "# - Plot the scores \n",
    "\n",
    "# Hints:\n",
    "# - To center the matrix D, subtract the mean of each column from each column\n",
    "# - To scale the matrix D, divide each column of the centered matrix by the standard deviation of each column"
   ]
  },
  {
   "attachments": {},
   "cell_type": "markdown",
   "id": "72fa8e44",
   "metadata": {},
   "source": [
    "To find the outliers, we build a classifier using the 2nd PC. To do that, we compute the empirical cumulative distribution function (ecdf) of PC scores squared divided by the corresponding eigenvalue (Mahalanobis distance):\n",
    "\n",
    "\\begin{equation}\n",
    "d_{M, i} = \\frac{z^2_{i,2}}{l_2}\n",
    "\\end{equation}\n",
    "\n",
    "\\begin{equation}\n",
    "\\mathrm{edfc}(t) = \\sum_{j = 1}^k d_{M, j} < t\n",
    "\\end{equation}"
   ]
  },
  {
   "cell_type": "code",
   "execution_count": 7,
   "id": "fd597472",
   "metadata": {},
   "outputs": [],
   "source": [
    "# To do:\n",
    "# - Calculate the Mahalanobis distance using PC2 \n",
    "# - Compute the cumulative distribution\n",
    "# - Set a threshold\n",
    "\n",
    "def ecdf(pc):\n",
    "    i_sort = np.argsort(pc)\n",
    "    pc_sort = pc[i_sort]\n",
    "    dist_sort = np.arange(1, pc_sort.size+1)/pc_sort.size\n",
    "    return i_sort, pc_sort, dist_sort\n",
    "\n",
    "# i_sort, pc2_sort, dist_sort = ecdf(dm_pc2)\n",
    "# threshold = 0.95\n",
    "\n",
    "# We plot the cumulative distribution\n",
    "# fig, ax = plt.subplots(figsize=(6,4))\n",
    "# ax.scatter(pc2_sort, dist_sort, c='b', s=10)\n",
    "# ax.set_xlabel('Dm for PC 2')\n",
    "# ax.set_ylabel('Distribution')\n",
    "# ax.hlines(threshold, pc2_sort.min(), pc2_sort.max(), color='r')\n",
    "# plt.show()"
   ]
  },
  {
   "attachments": {},
   "cell_type": "markdown",
   "id": "1531bb63",
   "metadata": {},
   "source": [
    "From the cumulative distribution, we can define the points above a certain threshold as outliers."
   ]
  },
  {
   "cell_type": "code",
   "execution_count": 5,
   "id": "b3b99cd3",
   "metadata": {},
   "outputs": [],
   "source": [
    "# To do:\n",
    "# - Apply the threshold to find the outliers (optional)\n",
    "\n",
    "# Uncomment to find the outliers\n",
    "# mask = dist_sort > threshold  # this mask operation creates a boolean array that follows the conditions we impose\n",
    "# fig, ax = plt.subplots(figsize=(6,4))\n",
    "# ax.scatter(D[i_sort[~mask], 0], D[i_sort[~mask], 1], c='b', label='correct')\n",
    "# ax.scatter(D[i_sort[mask], 0], D[i_sort[mask], 1], c='r', label='outliers')\n",
    "# ax.set_xlabel('x')\n",
    "# ax.set_ylabel('y')\n",
    "# ax.legend()\n",
    "# plt.show()"
   ]
  }
 ],
 "metadata": {
  "kernelspec": {
   "display_name": "Python 3",
   "language": "python",
   "name": "python3"
  },
  "language_info": {
   "codemirror_mode": {
    "name": "ipython",
    "version": 3
   },
   "file_extension": ".py",
   "mimetype": "text/x-python",
   "name": "python",
   "nbconvert_exporter": "python",
   "pygments_lexer": "ipython3",
   "version": "3.9.16"
  }
 },
 "nbformat": 4,
 "nbformat_minor": 5
}
