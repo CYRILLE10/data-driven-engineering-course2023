{
 "cells": [
  {
   "cell_type": "markdown",
   "id": "b5d2100d",
   "metadata": {},
   "source": [
    "# Exercises on PCA\n",
    "\n",
    "## Exercise 1: Hand-written digits\n",
    "\n",
    "The goal of the exercise is to perform PCA on a dataset containing hand-written digits. \n",
    "The dataset contains 1797 8x8 images of digits in the range 0-9.\n",
    "How can PCA help in the recognition of different digits?"
   ]
  },
  {
   "cell_type": "markdown",
   "id": "3ae6e6c9",
   "metadata": {},
   "source": [
    "In the first cell we import the libraries that we are going to use and the digits dataset."
   ]
  },
  {
   "cell_type": "code",
   "execution_count": 1,
   "id": "f9c58ab3",
   "metadata": {},
   "outputs": [
    {
     "name": "stdout",
     "output_type": "stream",
     "text": [
      "(1797, 64)\n"
     ]
    }
   ],
   "source": [
    "import numpy as np\n",
    "import matplotlib.pyplot as plt\n",
    "from sklearn.datasets import load_digits\n",
    "\n",
    "digits_images = load_digits().data  # images dataset size 1767x64\n",
    "digits_labels = load_digits().target # images labels size 1767\n",
    "\n",
    "print(digits_images.shape) #check the dimensions\n"
   ]
  },
  {
   "cell_type": "markdown",
   "id": "6f427673",
   "metadata": {},
   "source": [
    "We can also plot the digits, but first we need to reshape it in a 8x8 image."
   ]
  },
  {
   "cell_type": "code",
   "execution_count": 4,
   "id": "d2d0bbf4",
   "metadata": {},
   "outputs": [
    {
     "data": {
      "image/png": "[encoded data removed]",
      "text/plain": [
       "<Figure size 432x288 with 1 Axes>"
      ]
     },
     "metadata": {
      "needs_background": "light"
     },
     "output_type": "display_data"
    },
    {
     "name": "stdout",
     "output_type": "stream",
     "text": [
      "Image index: 0\n"
     ]
    }
   ],
   "source": [
    "# select the index of the digit to show\n",
    "index = 0\n",
    "\n",
    "# select the image and reshape it to show it\n",
    "digit = digits_images[index,:].reshape(8,8)\n",
    "plt.imshow(digit, cmap='Greys')\n",
    "plt.xticks(np.linspace(0, 7, 8))\n",
    "plt.yticks(np.linspace(0, 7, 8))\n",
    "plt.show()\n",
    "\n",
    "# print the label corresponding to the image\n",
    "print(f'Image index: {digits_labels[index]}')\n"
   ]
  },
  {
   "attachments": {},
   "cell_type": "markdown",
   "id": "470cb5a2",
   "metadata": {},
   "source": [
    "Now, we write a function to implement the PCA algorithm. Conventionally, the mean is removed from the dataset before applying PCA. If this is not done, the mean will be the first PC."
   ]
  },
  {
   "cell_type": "code",
   "execution_count": null,
   "id": "559bcdd2",
   "metadata": {},
   "outputs": [],
   "source": [
    "# To do: implement the PCA algorithm\n",
    "\n",
    "# Hint: The PCA algorithm consists of:\n",
    "# - center the matrix X\n",
    "# - compute the covariance matrix S = 1/(n-1) * (X0.T @ X0)\n",
    "# - compute the eigendecomposition using np.linalg.eig\n",
    "# - sort the eigenvalues using np.sort and np.argsort\n",
    "# - compute the PC scores Z = X @ A\n",
    "\n",
    "# Uncomment when you have defined the function PCA\n",
    "# A, Z, l = PCA(digits_images)\n",
    "\n",
    "# fig, ax = plt.subplots(figsize=(4,4))\n",
    "# ax.scatter(np.linspace(1, 64, 64), l)\n",
    "# ax.set_title('PCA eigenvalues')\n",
    "# plt.show()"
   ]
  },
  {
   "cell_type": "markdown",
   "id": "4c04cff1",
   "metadata": {},
   "source": [
    "Now, we can perform the PCA and plot the explained variance of the resulting PCs"
   ]
  },
  {
   "cell_type": "code",
   "execution_count": 3,
   "id": "8bec782f",
   "metadata": {},
   "outputs": [],
   "source": [
    "# We import the PCA object from the sklearn package\n",
    "from sklearn.decomposition import PCA\n",
    "\n",
    "# To do: show the explained variance ratio as a function of the principal components\n",
    "\n",
    "# hint: the documentation and examples to use the PCA object are at:\n",
    "# https://scikit-learn.org/stable/modules/generated/sklearn.decomposition.PCA.html"
   ]
  },
  {
   "cell_type": "markdown",
   "id": "706f512f",
   "metadata": {},
   "source": [
    "We can also retrieve the PCs (A), and calculate the PC scores (Z)."
   ]
  },
  {
   "cell_type": "code",
   "execution_count": 21,
   "id": "b62e3728",
   "metadata": {},
   "outputs": [],
   "source": [
    "# To do: calculate the PC matrix A and the PC scores matrix Z. Then plot the first five PCs.\n",
    "\n",
    "# hint: A is equal to the transpose of the attribute \"components_\" of the PCA object and Z = X A\n",
    "\n",
    "# To plot the first five PCs, uncomment the lines below after you have calculated A \n",
    "\n",
    "#n_pcs = 5\n",
    "#fig, axs = plt.subplots(1,n_pcs, figsize=(3*n_pcs, 3))\n",
    "#for i, ax in enumerate(axs):\n",
    "#    ax.imshow(A[:,i].reshape(8,8), cmap='Greys')\n",
    "#    ax.set_title('PC ' + str(i+1))\n"
   ]
  },
  {
   "cell_type": "markdown",
   "id": "b38b55eb",
   "metadata": {},
   "source": [
    "We can also check if we can use PCA to achieve dimensionality reduction. This means that we can reconstructed the digits using few PCs."
   ]
  },
  {
   "cell_type": "code",
   "execution_count": 22,
   "id": "3155a211",
   "metadata": {},
   "outputs": [],
   "source": [
    "# To do: reconstruct the digit number 10 using the first 20 PCs, and compare it to the original\n",
    "\n",
    "# hint: X_reconstructed = Zq Aq.T \n"
   ]
  },
  {
   "attachments": {},
   "cell_type": "markdown",
   "id": "a56f1a97",
   "metadata": {},
   "source": [
    "Optional: explain what is the difference between using the canonical basis and the PCs to express the images, and why we can reduce the dimensionality with PCA and not with the canonical basis. "
   ]
  },
  {
   "cell_type": "code",
   "execution_count": null,
   "id": "e4eefb88",
   "metadata": {},
   "outputs": [],
   "source": [
    "# To do: show the difference between using the canonical basis and PCs to represent the image of the first digit\n",
    "\n",
    "# Hint: in the canonical basis X[0,:] = W[0,:] @ B.T\n",
    "#       while with PCA it is X[0,:] = Z[0,:] @ A.T   "
   ]
  },
  {
   "attachments": {},
   "cell_type": "markdown",
   "id": "b0c016f3",
   "metadata": {},
   "source": [
    "Optional: Show how the PC scores can be used to cluster the data by plotting the first two vectors of the PC scores (Z)."
   ]
  },
  {
   "cell_type": "code",
   "execution_count": 23,
   "id": "e1b996cc",
   "metadata": {},
   "outputs": [],
   "source": [
    "# Uncomment the lines below after you have calculated Z \n",
    "\n",
    "#fig, ax = plt.subplots(figsize=(8,5))\n",
    "#im = ax.scatter(Z[:,0], Z[:,1], c=digits_labels, cmap=plt.cm.get_cmap('tab10', 10), alpha=0.5)\n",
    "#fig.colorbar(im)\n",
    "#plt.show()"
   ]
  }
 ],
 "metadata": {
  "kernelspec": {
   "display_name": "Python 3",
   "language": "python",
   "name": "python3"
  },
  "language_info": {
   "codemirror_mode": {
    "name": "ipython",
    "version": 3
   },
   "file_extension": ".py",
   "mimetype": "text/x-python",
   "name": "python",
   "nbconvert_exporter": "python",
   "pygments_lexer": "ipython3",
   "version": "3.7.9"
  }
 },
 "nbformat": 4,
 "nbformat_minor": 5
}
